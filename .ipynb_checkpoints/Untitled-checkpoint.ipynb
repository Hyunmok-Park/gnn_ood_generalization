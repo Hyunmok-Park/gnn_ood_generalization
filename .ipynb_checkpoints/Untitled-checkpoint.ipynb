{
 "cells": [
  {
   "cell_type": "markdown",
   "metadata": {},
   "source": [
    "# Init"
   ]
  },
  {
   "cell_type": "code",
   "execution_count": 2,
   "metadata": {},
   "outputs": [],
   "source": [
    "from sklearn.decomposition import PCA\n",
    "from sklearn.datasets import load_digits\n",
    "from sklearn.preprocessing import StandardScaler\n",
    "import matplotlib\n",
    "from func_timeout import func_timeout, FunctionTimedOut, func_set_timeout\n",
    "import subprocess\n",
    "import numpy as np\n",
    "import pandas as pd\n",
    "from pandas.plotting import table \n",
    "import matplotlib.pyplot as plt\n",
    "import networkx as nx\n",
    "import os\n",
    "import pickle\n",
    "from matplotlib import cm\n",
    "from tqdm.notebook import tqdm\n",
    "import torch\n",
    "import random\n",
    "from matplotlib import gridspec\n",
    "from itertools import product\n",
    "import collections\n",
    "from matplotlib.collections import LineCollection\n",
    "from matplotlib.colors import ListedColormap, BoundaryNorm\n",
    "import torch\n",
    "import torch.nn as nn\n",
    "import yaml\n",
    "import random\n",
    "from scipy.optimize import curve_fit\n",
    "import copy\n",
    "import os\n",
    "# from sympy import *\n",
    "import math\n",
    "import torch\n",
    "import torch.nn as nn\n",
    "from torch.nn.parameter import Parameter\n",
    "import torch.nn.functional as F\n",
    "import torch.nn.init as init\n",
    "\n",
    "import networkx as nx\n",
    "import numpy as np\n",
    "from torch.nn.modules.utils import _pair\n",
    "from torch.nn.modules.conv import _ConvNd\n",
    "from torch.autograd import Function\n",
    "\n",
    "from itertools import repeat\n",
    "from networkx.utils import py_random_state\n",
    "import shutil\n",
    "\n",
    "import pdb\n",
    "import time\n",
    "import random\n",
    "\n",
    "def degree(G):\n",
    "    degree_sequence = sorted([d for n, d in G.degree()], reverse=True)\n",
    "    degree_count = collections.Counter(degree_sequence)\n",
    "    deg, cnt = zip(*degree_count.items())\n",
    "    return degree_sequence, deg, cnt"
   ]
  },
  {
   "cell_type": "code",
   "execution_count": 32,
   "metadata": {},
   "outputs": [
    {
     "data": {
      "application/vnd.jupyter.widget-view+json": {
       "model_id": "d2c79707c1204879a40ba2f67f7be09f",
       "version_major": 2,
       "version_minor": 0
      },
      "text/plain": [
       "HBox(children=(FloatProgress(value=0.0, max=40.0), HTML(value='')))"
      ]
     },
     "metadata": {},
     "output_type": "display_data"
    },
    {
     "name": "stdout",
     "output_type": "stream",
     "text": [
      "amazon0302_adj.tsv\n"
     ]
    },
    {
     "data": {
      "application/vnd.jupyter.widget-view+json": {
       "model_id": "",
       "version_major": 2,
       "version_minor": 0
      },
      "text/plain": [
       "HBox(children=(FloatProgress(value=0.0, max=1799584.0), HTML(value='')))"
      ]
     },
     "metadata": {},
     "output_type": "display_data"
    },
    {
     "name": "stdout",
     "output_type": "stream",
     "text": [
      "262111 1\n"
     ]
    },
    {
     "data": {
      "application/vnd.jupyter.widget-view+json": {
       "model_id": "",
       "version_major": 2,
       "version_minor": 0
      },
      "text/plain": [
       "HBox(children=(FloatProgress(value=0.0, max=262110.0), HTML(value='')))"
      ]
     },
     "metadata": {},
     "output_type": "display_data"
    },
    {
     "name": "stdout",
     "output_type": "stream",
     "text": [
      "amazon0312_adj.tsv\n"
     ]
    },
    {
     "data": {
      "application/vnd.jupyter.widget-view+json": {
       "model_id": "",
       "version_major": 2,
       "version_minor": 0
      },
      "text/plain": [
       "HBox(children=(FloatProgress(value=0.0, max=4699738.0), HTML(value='')))"
      ]
     },
     "metadata": {},
     "output_type": "display_data"
    },
    {
     "name": "stdout",
     "output_type": "stream",
     "text": [
      "400727 1\n"
     ]
    },
    {
     "data": {
      "application/vnd.jupyter.widget-view+json": {
       "model_id": "",
       "version_major": 2,
       "version_minor": 0
      },
      "text/plain": [
       "HBox(children=(FloatProgress(value=0.0, max=400726.0), HTML(value='')))"
      ]
     },
     "metadata": {},
     "output_type": "display_data"
    },
    {
     "name": "stdout",
     "output_type": "stream",
     "text": [
      "amazon0505_adj.tsv\n"
     ]
    },
    {
     "data": {
      "application/vnd.jupyter.widget-view+json": {
       "model_id": "",
       "version_major": 2,
       "version_minor": 0
      },
      "text/plain": [
       "HBox(children=(FloatProgress(value=0.0, max=4878874.0), HTML(value='')))"
      ]
     },
     "metadata": {},
     "output_type": "display_data"
    },
    {
     "name": "stdout",
     "output_type": "stream",
     "text": [
      "410236 1\n"
     ]
    },
    {
     "data": {
      "application/vnd.jupyter.widget-view+json": {
       "model_id": "",
       "version_major": 2,
       "version_minor": 0
      },
      "text/plain": [
       "HBox(children=(FloatProgress(value=0.0, max=410235.0), HTML(value='')))"
      ]
     },
     "metadata": {},
     "output_type": "display_data"
    },
    {
     "name": "stdout",
     "output_type": "stream",
     "text": [
      "amazon0601_adj.tsv\n"
     ]
    },
    {
     "data": {
      "application/vnd.jupyter.widget-view+json": {
       "model_id": "",
       "version_major": 2,
       "version_minor": 0
      },
      "text/plain": [
       "HBox(children=(FloatProgress(value=0.0, max=4886816.0), HTML(value='')))"
      ]
     },
     "metadata": {},
     "output_type": "display_data"
    },
    {
     "name": "stdout",
     "output_type": "stream",
     "text": [
      "403394 1\n"
     ]
    },
    {
     "data": {
      "application/vnd.jupyter.widget-view+json": {
       "model_id": "",
       "version_major": 2,
       "version_minor": 0
      },
      "text/plain": [
       "HBox(children=(FloatProgress(value=0.0, max=403393.0), HTML(value='')))"
      ]
     },
     "metadata": {},
     "output_type": "display_data"
    },
    {
     "name": "stdout",
     "output_type": "stream",
     "text": [
      "as-caida20071105_adj.tsv\n"
     ]
    },
    {
     "data": {
      "application/vnd.jupyter.widget-view+json": {
       "model_id": "",
       "version_major": 2,
       "version_minor": 0
      },
      "text/plain": [
       "HBox(children=(FloatProgress(value=0.0, max=106762.0), HTML(value='')))"
      ]
     },
     "metadata": {},
     "output_type": "display_data"
    },
    {
     "name": "stdout",
     "output_type": "stream",
     "text": [
      "26475 1\n"
     ]
    },
    {
     "data": {
      "application/vnd.jupyter.widget-view+json": {
       "model_id": "",
       "version_major": 2,
       "version_minor": 0
      },
      "text/plain": [
       "HBox(children=(FloatProgress(value=0.0, max=26474.0), HTML(value='')))"
      ]
     },
     "metadata": {},
     "output_type": "display_data"
    },
    {
     "name": "stdout",
     "output_type": "stream",
     "text": [
      "as20000102_adj.tsv\n"
     ]
    },
    {
     "data": {
      "application/vnd.jupyter.widget-view+json": {
       "model_id": "",
       "version_major": 2,
       "version_minor": 0
      },
      "text/plain": [
       "HBox(children=(FloatProgress(value=0.0, max=25144.0), HTML(value='')))"
      ]
     },
     "metadata": {},
     "output_type": "display_data"
    },
    {
     "name": "stdout",
     "output_type": "stream",
     "text": [
      "6474 1\n"
     ]
    },
    {
     "data": {
      "application/vnd.jupyter.widget-view+json": {
       "model_id": "",
       "version_major": 2,
       "version_minor": 0
      },
      "text/plain": [
       "HBox(children=(FloatProgress(value=0.0, max=6473.0), HTML(value='')))"
      ]
     },
     "metadata": {},
     "output_type": "display_data"
    },
    {
     "name": "stdout",
     "output_type": "stream",
     "text": [
      "ca-AstroPh_adj.tsv\n"
     ]
    },
    {
     "data": {
      "application/vnd.jupyter.widget-view+json": {
       "model_id": "",
       "version_major": 2,
       "version_minor": 0
      },
      "text/plain": [
       "HBox(children=(FloatProgress(value=0.0, max=396100.0), HTML(value='')))"
      ]
     },
     "metadata": {},
     "output_type": "display_data"
    },
    {
     "name": "stdout",
     "output_type": "stream",
     "text": [
      "18772 1\n"
     ]
    },
    {
     "data": {
      "application/vnd.jupyter.widget-view+json": {
       "model_id": "",
       "version_major": 2,
       "version_minor": 0
      },
      "text/plain": [
       "HBox(children=(FloatProgress(value=0.0, max=18771.0), HTML(value='')))"
      ]
     },
     "metadata": {},
     "output_type": "display_data"
    },
    {
     "name": "stdout",
     "output_type": "stream",
     "text": [
      "ca-CondMat_adj.tsv\n"
     ]
    },
    {
     "data": {
      "application/vnd.jupyter.widget-view+json": {
       "model_id": "",
       "version_major": 2,
       "version_minor": 0
      },
      "text/plain": [
       "HBox(children=(FloatProgress(value=0.0, max=186878.0), HTML(value='')))"
      ]
     },
     "metadata": {},
     "output_type": "display_data"
    },
    {
     "name": "stdout",
     "output_type": "stream",
     "text": [
      "23133 1\n"
     ]
    },
    {
     "data": {
      "application/vnd.jupyter.widget-view+json": {
       "model_id": "",
       "version_major": 2,
       "version_minor": 0
      },
      "text/plain": [
       "HBox(children=(FloatProgress(value=0.0, max=23132.0), HTML(value='')))"
      ]
     },
     "metadata": {},
     "output_type": "display_data"
    },
    {
     "name": "stdout",
     "output_type": "stream",
     "text": [
      "ca-GrQc_adj.tsv\n"
     ]
    },
    {
     "data": {
      "application/vnd.jupyter.widget-view+json": {
       "model_id": "",
       "version_major": 2,
       "version_minor": 0
      },
      "text/plain": [
       "HBox(children=(FloatProgress(value=0.0, max=28968.0), HTML(value='')))"
      ]
     },
     "metadata": {},
     "output_type": "display_data"
    },
    {
     "name": "stdout",
     "output_type": "stream",
     "text": [
      "5242 1\n"
     ]
    },
    {
     "data": {
      "application/vnd.jupyter.widget-view+json": {
       "model_id": "",
       "version_major": 2,
       "version_minor": 0
      },
      "text/plain": [
       "HBox(children=(FloatProgress(value=0.0, max=5241.0), HTML(value='')))"
      ]
     },
     "metadata": {},
     "output_type": "display_data"
    },
    {
     "name": "stdout",
     "output_type": "stream",
     "text": [
      "ca-HepPh_adj.tsv\n"
     ]
    },
    {
     "data": {
      "application/vnd.jupyter.widget-view+json": {
       "model_id": "",
       "version_major": 2,
       "version_minor": 0
      },
      "text/plain": [
       "HBox(children=(FloatProgress(value=0.0, max=236978.0), HTML(value='')))"
      ]
     },
     "metadata": {},
     "output_type": "display_data"
    },
    {
     "name": "stdout",
     "output_type": "stream",
     "text": [
      "12008 1\n"
     ]
    },
    {
     "data": {
      "application/vnd.jupyter.widget-view+json": {
       "model_id": "",
       "version_major": 2,
       "version_minor": 0
      },
      "text/plain": [
       "HBox(children=(FloatProgress(value=0.0, max=12007.0), HTML(value='')))"
      ]
     },
     "metadata": {},
     "output_type": "display_data"
    },
    {
     "name": "stdout",
     "output_type": "stream",
     "text": [
      "ca-HepTh_adj.tsv\n"
     ]
    },
    {
     "data": {
      "application/vnd.jupyter.widget-view+json": {
       "model_id": "",
       "version_major": 2,
       "version_minor": 0
      },
      "text/plain": [
       "HBox(children=(FloatProgress(value=0.0, max=51946.0), HTML(value='')))"
      ]
     },
     "metadata": {},
     "output_type": "display_data"
    },
    {
     "name": "stdout",
     "output_type": "stream",
     "text": [
      "9877 1\n"
     ]
    },
    {
     "data": {
      "application/vnd.jupyter.widget-view+json": {
       "model_id": "",
       "version_major": 2,
       "version_minor": 0
      },
      "text/plain": [
       "HBox(children=(FloatProgress(value=0.0, max=9876.0), HTML(value='')))"
      ]
     },
     "metadata": {},
     "output_type": "display_data"
    },
    {
     "name": "stdout",
     "output_type": "stream",
     "text": [
      "cit-HepPh_adj.tsv\n"
     ]
    },
    {
     "data": {
      "application/vnd.jupyter.widget-view+json": {
       "model_id": "",
       "version_major": 2,
       "version_minor": 0
      },
      "text/plain": [
       "HBox(children=(FloatProgress(value=0.0, max=841754.0), HTML(value='')))"
      ]
     },
     "metadata": {},
     "output_type": "display_data"
    },
    {
     "name": "stdout",
     "output_type": "stream",
     "text": [
      "34546 1\n"
     ]
    },
    {
     "data": {
      "application/vnd.jupyter.widget-view+json": {
       "model_id": "",
       "version_major": 2,
       "version_minor": 0
      },
      "text/plain": [
       "HBox(children=(FloatProgress(value=0.0, max=34545.0), HTML(value='')))"
      ]
     },
     "metadata": {},
     "output_type": "display_data"
    },
    {
     "name": "stdout",
     "output_type": "stream",
     "text": [
      "cit-HepTh_adj.tsv\n"
     ]
    },
    {
     "data": {
      "application/vnd.jupyter.widget-view+json": {
       "model_id": "",
       "version_major": 2,
       "version_minor": 0
      },
      "text/plain": [
       "HBox(children=(FloatProgress(value=0.0, max=704570.0), HTML(value='')))"
      ]
     },
     "metadata": {},
     "output_type": "display_data"
    },
    {
     "name": "stdout",
     "output_type": "stream",
     "text": [
      "27770 1\n"
     ]
    },
    {
     "data": {
      "application/vnd.jupyter.widget-view+json": {
       "model_id": "",
       "version_major": 2,
       "version_minor": 0
      },
      "text/plain": [
       "HBox(children=(FloatProgress(value=0.0, max=27769.0), HTML(value='')))"
      ]
     },
     "metadata": {},
     "output_type": "display_data"
    },
    {
     "name": "stdout",
     "output_type": "stream",
     "text": [
      "email-Enron_adj.tsv\n"
     ]
    },
    {
     "data": {
      "application/vnd.jupyter.widget-view+json": {
       "model_id": "",
       "version_major": 2,
       "version_minor": 0
      },
      "text/plain": [
       "HBox(children=(FloatProgress(value=0.0, max=367662.0), HTML(value='')))"
      ]
     },
     "metadata": {},
     "output_type": "display_data"
    },
    {
     "name": "stdout",
     "output_type": "stream",
     "text": [
      "36692 1\n"
     ]
    },
    {
     "data": {
      "application/vnd.jupyter.widget-view+json": {
       "model_id": "",
       "version_major": 2,
       "version_minor": 0
      },
      "text/plain": [
       "HBox(children=(FloatProgress(value=0.0, max=36691.0), HTML(value='')))"
      ]
     },
     "metadata": {},
     "output_type": "display_data"
    },
    {
     "name": "stdout",
     "output_type": "stream",
     "text": [
      "facebook_combined_adj.tsv\n"
     ]
    },
    {
     "data": {
      "application/vnd.jupyter.widget-view+json": {
       "model_id": "",
       "version_major": 2,
       "version_minor": 0
      },
      "text/plain": [
       "HBox(children=(FloatProgress(value=0.0, max=176468.0), HTML(value='')))"
      ]
     },
     "metadata": {},
     "output_type": "display_data"
    },
    {
     "name": "stdout",
     "output_type": "stream",
     "text": [
      "4039 1\n"
     ]
    },
    {
     "data": {
      "application/vnd.jupyter.widget-view+json": {
       "model_id": "",
       "version_major": 2,
       "version_minor": 0
      },
      "text/plain": [
       "HBox(children=(FloatProgress(value=0.0, max=4038.0), HTML(value='')))"
      ]
     },
     "metadata": {},
     "output_type": "display_data"
    },
    {
     "name": "stdout",
     "output_type": "stream",
     "text": [
      "flickrEdges_adj.tsv\n"
     ]
    },
    {
     "data": {
      "application/vnd.jupyter.widget-view+json": {
       "model_id": "",
       "version_major": 2,
       "version_minor": 0
      },
      "text/plain": [
       "HBox(children=(FloatProgress(value=0.0, max=4633896.0), HTML(value='')))"
      ]
     },
     "metadata": {},
     "output_type": "display_data"
    },
    {
     "name": "stdout",
     "output_type": "stream",
     "text": [
      "105938 1\n"
     ]
    },
    {
     "data": {
      "application/vnd.jupyter.widget-view+json": {
       "model_id": "",
       "version_major": 2,
       "version_minor": 0
      },
      "text/plain": [
       "HBox(children=(FloatProgress(value=0.0, max=105937.0), HTML(value='')))"
      ]
     },
     "metadata": {},
     "output_type": "display_data"
    },
    {
     "name": "stdout",
     "output_type": "stream",
     "text": [
      "loc-brightkite_edges_adj.tsv\n"
     ]
    },
    {
     "data": {
      "application/vnd.jupyter.widget-view+json": {
       "model_id": "",
       "version_major": 2,
       "version_minor": 0
      },
      "text/plain": [
       "HBox(children=(FloatProgress(value=0.0, max=428156.0), HTML(value='')))"
      ]
     },
     "metadata": {},
     "output_type": "display_data"
    },
    {
     "name": "stdout",
     "output_type": "stream",
     "text": [
      "58228 1\n"
     ]
    },
    {
     "data": {
      "application/vnd.jupyter.widget-view+json": {
       "model_id": "",
       "version_major": 2,
       "version_minor": 0
      },
      "text/plain": [
       "HBox(children=(FloatProgress(value=0.0, max=58227.0), HTML(value='')))"
      ]
     },
     "metadata": {},
     "output_type": "display_data"
    },
    {
     "name": "stdout",
     "output_type": "stream",
     "text": [
      "loc-gowalla_edges_adj.tsv\n"
     ]
    },
    {
     "data": {
      "application/vnd.jupyter.widget-view+json": {
       "model_id": "",
       "version_major": 2,
       "version_minor": 0
      },
      "text/plain": [
       "HBox(children=(FloatProgress(value=0.0, max=1900654.0), HTML(value='')))"
      ]
     },
     "metadata": {},
     "output_type": "display_data"
    },
    {
     "name": "stdout",
     "output_type": "stream",
     "text": [
      "196591 1\n"
     ]
    },
    {
     "data": {
      "application/vnd.jupyter.widget-view+json": {
       "model_id": "",
       "version_major": 2,
       "version_minor": 0
      },
      "text/plain": [
       "HBox(children=(FloatProgress(value=0.0, max=196590.0), HTML(value='')))"
      ]
     },
     "metadata": {},
     "output_type": "display_data"
    },
    {
     "name": "stdout",
     "output_type": "stream",
     "text": [
      "oregon1_010331_adj (1).tsv\n"
     ]
    },
    {
     "data": {
      "application/vnd.jupyter.widget-view+json": {
       "model_id": "",
       "version_major": 2,
       "version_minor": 0
      },
      "text/plain": [
       "HBox(children=(FloatProgress(value=0.0, max=44004.0), HTML(value='')))"
      ]
     },
     "metadata": {},
     "output_type": "display_data"
    },
    {
     "name": "stdout",
     "output_type": "stream",
     "text": [
      "10670 1\n"
     ]
    },
    {
     "data": {
      "application/vnd.jupyter.widget-view+json": {
       "model_id": "",
       "version_major": 2,
       "version_minor": 0
      },
      "text/plain": [
       "HBox(children=(FloatProgress(value=0.0, max=10669.0), HTML(value='')))"
      ]
     },
     "metadata": {},
     "output_type": "display_data"
    },
    {
     "name": "stdout",
     "output_type": "stream",
     "text": [
      "oregon1_010331_adj.tsv\n"
     ]
    },
    {
     "data": {
      "application/vnd.jupyter.widget-view+json": {
       "model_id": "",
       "version_major": 2,
       "version_minor": 0
      },
      "text/plain": [
       "HBox(children=(FloatProgress(value=0.0, max=44004.0), HTML(value='')))"
      ]
     },
     "metadata": {},
     "output_type": "display_data"
    },
    {
     "name": "stdout",
     "output_type": "stream",
     "text": [
      "10670 1\n"
     ]
    },
    {
     "data": {
      "application/vnd.jupyter.widget-view+json": {
       "model_id": "",
       "version_major": 2,
       "version_minor": 0
      },
      "text/plain": [
       "HBox(children=(FloatProgress(value=0.0, max=10669.0), HTML(value='')))"
      ]
     },
     "metadata": {},
     "output_type": "display_data"
    },
    {
     "name": "stdout",
     "output_type": "stream",
     "text": [
      "oregon1_010407_adj.tsv\n"
     ]
    },
    {
     "data": {
      "application/vnd.jupyter.widget-view+json": {
       "model_id": "",
       "version_major": 2,
       "version_minor": 0
      },
      "text/plain": [
       "HBox(children=(FloatProgress(value=0.0, max=43998.0), HTML(value='')))"
      ]
     },
     "metadata": {},
     "output_type": "display_data"
    },
    {
     "name": "stdout",
     "output_type": "stream",
     "text": [
      "10729 1\n"
     ]
    },
    {
     "data": {
      "application/vnd.jupyter.widget-view+json": {
       "model_id": "",
       "version_major": 2,
       "version_minor": 0
      },
      "text/plain": [
       "HBox(children=(FloatProgress(value=0.0, max=10728.0), HTML(value='')))"
      ]
     },
     "metadata": {},
     "output_type": "display_data"
    },
    {
     "name": "stdout",
     "output_type": "stream",
     "text": [
      "oregon1_010414_adj.tsv\n"
     ]
    },
    {
     "data": {
      "application/vnd.jupyter.widget-view+json": {
       "model_id": "",
       "version_major": 2,
       "version_minor": 0
      },
      "text/plain": [
       "HBox(children=(FloatProgress(value=0.0, max=44938.0), HTML(value='')))"
      ]
     },
     "metadata": {},
     "output_type": "display_data"
    },
    {
     "name": "stdout",
     "output_type": "stream",
     "text": [
      "10790 1\n"
     ]
    },
    {
     "data": {
      "application/vnd.jupyter.widget-view+json": {
       "model_id": "",
       "version_major": 2,
       "version_minor": 0
      },
      "text/plain": [
       "HBox(children=(FloatProgress(value=0.0, max=10789.0), HTML(value='')))"
      ]
     },
     "metadata": {},
     "output_type": "display_data"
    },
    {
     "name": "stdout",
     "output_type": "stream",
     "text": [
      "oregon1_010421_adj.tsv\n"
     ]
    },
    {
     "data": {
      "application/vnd.jupyter.widget-view+json": {
       "model_id": "",
       "version_major": 2,
       "version_minor": 0
      },
      "text/plain": [
       "HBox(children=(FloatProgress(value=0.0, max=45494.0), HTML(value='')))"
      ]
     },
     "metadata": {},
     "output_type": "display_data"
    },
    {
     "name": "stdout",
     "output_type": "stream",
     "text": [
      "10859 1\n"
     ]
    },
    {
     "data": {
      "application/vnd.jupyter.widget-view+json": {
       "model_id": "",
       "version_major": 2,
       "version_minor": 0
      },
      "text/plain": [
       "HBox(children=(FloatProgress(value=0.0, max=10858.0), HTML(value='')))"
      ]
     },
     "metadata": {},
     "output_type": "display_data"
    },
    {
     "name": "stdout",
     "output_type": "stream",
     "text": [
      "oregon1_010428_adj.tsv\n"
     ]
    },
    {
     "data": {
      "application/vnd.jupyter.widget-view+json": {
       "model_id": "",
       "version_major": 2,
       "version_minor": 0
      },
      "text/plain": [
       "HBox(children=(FloatProgress(value=0.0, max=44986.0), HTML(value='')))"
      ]
     },
     "metadata": {},
     "output_type": "display_data"
    },
    {
     "name": "stdout",
     "output_type": "stream",
     "text": [
      "10886 1\n"
     ]
    },
    {
     "data": {
      "application/vnd.jupyter.widget-view+json": {
       "model_id": "",
       "version_major": 2,
       "version_minor": 0
      },
      "text/plain": [
       "HBox(children=(FloatProgress(value=0.0, max=10885.0), HTML(value='')))"
      ]
     },
     "metadata": {},
     "output_type": "display_data"
    },
    {
     "name": "stdout",
     "output_type": "stream",
     "text": [
      "oregon1_010505_adj.tsv\n"
     ]
    },
    {
     "data": {
      "application/vnd.jupyter.widget-view+json": {
       "model_id": "",
       "version_major": 2,
       "version_minor": 0
      },
      "text/plain": [
       "HBox(children=(FloatProgress(value=0.0, max=45214.0), HTML(value='')))"
      ]
     },
     "metadata": {},
     "output_type": "display_data"
    },
    {
     "name": "stdout",
     "output_type": "stream",
     "text": [
      "10943 1\n"
     ]
    },
    {
     "data": {
      "application/vnd.jupyter.widget-view+json": {
       "model_id": "",
       "version_major": 2,
       "version_minor": 0
      },
      "text/plain": [
       "HBox(children=(FloatProgress(value=0.0, max=10942.0), HTML(value='')))"
      ]
     },
     "metadata": {},
     "output_type": "display_data"
    },
    {
     "name": "stdout",
     "output_type": "stream",
     "text": [
      "oregon1_010512_adj.tsv\n"
     ]
    },
    {
     "data": {
      "application/vnd.jupyter.widget-view+json": {
       "model_id": "",
       "version_major": 2,
       "version_minor": 0
      },
      "text/plain": [
       "HBox(children=(FloatProgress(value=0.0, max=45354.0), HTML(value='')))"
      ]
     },
     "metadata": {},
     "output_type": "display_data"
    },
    {
     "name": "stdout",
     "output_type": "stream",
     "text": [
      "11011 1\n"
     ]
    },
    {
     "data": {
      "application/vnd.jupyter.widget-view+json": {
       "model_id": "",
       "version_major": 2,
       "version_minor": 0
      },
      "text/plain": [
       "HBox(children=(FloatProgress(value=0.0, max=11010.0), HTML(value='')))"
      ]
     },
     "metadata": {},
     "output_type": "display_data"
    },
    {
     "name": "stdout",
     "output_type": "stream",
     "text": [
      "oregon1_010519_adj.tsv\n"
     ]
    },
    {
     "data": {
      "application/vnd.jupyter.widget-view+json": {
       "model_id": "",
       "version_major": 2,
       "version_minor": 0
      },
      "text/plain": [
       "HBox(children=(FloatProgress(value=0.0, max=45448.0), HTML(value='')))"
      ]
     },
     "metadata": {},
     "output_type": "display_data"
    },
    {
     "name": "stdout",
     "output_type": "stream",
     "text": [
      "11051 1\n"
     ]
    },
    {
     "data": {
      "application/vnd.jupyter.widget-view+json": {
       "model_id": "",
       "version_major": 2,
       "version_minor": 0
      },
      "text/plain": [
       "HBox(children=(FloatProgress(value=0.0, max=11050.0), HTML(value='')))"
      ]
     },
     "metadata": {},
     "output_type": "display_data"
    },
    {
     "name": "stdout",
     "output_type": "stream",
     "text": [
      "oregon1_010526_adj.tsv\n"
     ]
    },
    {
     "data": {
      "application/vnd.jupyter.widget-view+json": {
       "model_id": "",
       "version_major": 2,
       "version_minor": 0
      },
      "text/plain": [
       "HBox(children=(FloatProgress(value=0.0, max=46818.0), HTML(value='')))"
      ]
     },
     "metadata": {},
     "output_type": "display_data"
    },
    {
     "name": "stdout",
     "output_type": "stream",
     "text": [
      "11174 1\n"
     ]
    },
    {
     "data": {
      "application/vnd.jupyter.widget-view+json": {
       "model_id": "",
       "version_major": 2,
       "version_minor": 0
      },
      "text/plain": [
       "HBox(children=(FloatProgress(value=0.0, max=11173.0), HTML(value='')))"
      ]
     },
     "metadata": {},
     "output_type": "display_data"
    },
    {
     "name": "stdout",
     "output_type": "stream",
     "text": [
      "oregon2_010331_adj.tsv\n"
     ]
    },
    {
     "data": {
      "application/vnd.jupyter.widget-view+json": {
       "model_id": "",
       "version_major": 2,
       "version_minor": 0
      },
      "text/plain": [
       "HBox(children=(FloatProgress(value=0.0, max=62360.0), HTML(value='')))"
      ]
     },
     "metadata": {},
     "output_type": "display_data"
    },
    {
     "name": "stdout",
     "output_type": "stream",
     "text": [
      "10900 1\n"
     ]
    },
    {
     "data": {
      "application/vnd.jupyter.widget-view+json": {
       "model_id": "",
       "version_major": 2,
       "version_minor": 0
      },
      "text/plain": [
       "HBox(children=(FloatProgress(value=0.0, max=10899.0), HTML(value='')))"
      ]
     },
     "metadata": {},
     "output_type": "display_data"
    },
    {
     "name": "stdout",
     "output_type": "stream",
     "text": [
      "oregon2_010407_adj.tsv\n"
     ]
    },
    {
     "data": {
      "application/vnd.jupyter.widget-view+json": {
       "model_id": "",
       "version_major": 2,
       "version_minor": 0
      },
      "text/plain": [
       "HBox(children=(FloatProgress(value=0.0, max=61710.0), HTML(value='')))"
      ]
     },
     "metadata": {},
     "output_type": "display_data"
    },
    {
     "name": "stdout",
     "output_type": "stream",
     "text": [
      "10981 1\n"
     ]
    },
    {
     "data": {
      "application/vnd.jupyter.widget-view+json": {
       "model_id": "",
       "version_major": 2,
       "version_minor": 0
      },
      "text/plain": [
       "HBox(children=(FloatProgress(value=0.0, max=10980.0), HTML(value='')))"
      ]
     },
     "metadata": {},
     "output_type": "display_data"
    },
    {
     "name": "stdout",
     "output_type": "stream",
     "text": [
      "oregon2_010414_adj.tsv\n"
     ]
    },
    {
     "data": {
      "application/vnd.jupyter.widget-view+json": {
       "model_id": "",
       "version_major": 2,
       "version_minor": 0
      },
      "text/plain": [
       "HBox(children=(FloatProgress(value=0.0, max=63522.0), HTML(value='')))"
      ]
     },
     "metadata": {},
     "output_type": "display_data"
    },
    {
     "name": "stdout",
     "output_type": "stream",
     "text": [
      "11019 1\n"
     ]
    },
    {
     "data": {
      "application/vnd.jupyter.widget-view+json": {
       "model_id": "",
       "version_major": 2,
       "version_minor": 0
      },
      "text/plain": [
       "HBox(children=(FloatProgress(value=0.0, max=11018.0), HTML(value='')))"
      ]
     },
     "metadata": {},
     "output_type": "display_data"
    },
    {
     "name": "stdout",
     "output_type": "stream",
     "text": [
      "oregon2_010421_adj.tsv\n"
     ]
    },
    {
     "data": {
      "application/vnd.jupyter.widget-view+json": {
       "model_id": "",
       "version_major": 2,
       "version_minor": 0
      },
      "text/plain": [
       "HBox(children=(FloatProgress(value=0.0, max=63076.0), HTML(value='')))"
      ]
     },
     "metadata": {},
     "output_type": "display_data"
    },
    {
     "name": "stdout",
     "output_type": "stream",
     "text": [
      "11080 1\n"
     ]
    },
    {
     "data": {
      "application/vnd.jupyter.widget-view+json": {
       "model_id": "",
       "version_major": 2,
       "version_minor": 0
      },
      "text/plain": [
       "HBox(children=(FloatProgress(value=0.0, max=11079.0), HTML(value='')))"
      ]
     },
     "metadata": {},
     "output_type": "display_data"
    },
    {
     "name": "stdout",
     "output_type": "stream",
     "text": [
      "oregon2_010428_adj.tsv\n"
     ]
    },
    {
     "data": {
      "application/vnd.jupyter.widget-view+json": {
       "model_id": "",
       "version_major": 2,
       "version_minor": 0
      },
      "text/plain": [
       "HBox(children=(FloatProgress(value=0.0, max=62868.0), HTML(value='')))"
      ]
     },
     "metadata": {},
     "output_type": "display_data"
    },
    {
     "name": "stdout",
     "output_type": "stream",
     "text": [
      "11113 1\n"
     ]
    },
    {
     "data": {
      "application/vnd.jupyter.widget-view+json": {
       "model_id": "",
       "version_major": 2,
       "version_minor": 0
      },
      "text/plain": [
       "HBox(children=(FloatProgress(value=0.0, max=11112.0), HTML(value='')))"
      ]
     },
     "metadata": {},
     "output_type": "display_data"
    },
    {
     "name": "stdout",
     "output_type": "stream",
     "text": [
      "oregon2_010505_adj.tsv\n"
     ]
    },
    {
     "data": {
      "application/vnd.jupyter.widget-view+json": {
       "model_id": "",
       "version_major": 2,
       "version_minor": 0
      },
      "text/plain": [
       "HBox(children=(FloatProgress(value=0.0, max=61886.0), HTML(value='')))"
      ]
     },
     "metadata": {},
     "output_type": "display_data"
    },
    {
     "name": "stdout",
     "output_type": "stream",
     "text": [
      "11157 1\n"
     ]
    },
    {
     "data": {
      "application/vnd.jupyter.widget-view+json": {
       "model_id": "",
       "version_major": 2,
       "version_minor": 0
      },
      "text/plain": [
       "HBox(children=(FloatProgress(value=0.0, max=11156.0), HTML(value='')))"
      ]
     },
     "metadata": {},
     "output_type": "display_data"
    },
    {
     "name": "stdout",
     "output_type": "stream",
     "text": [
      "oregon2_010512_adj.tsv\n"
     ]
    },
    {
     "data": {
      "application/vnd.jupyter.widget-view+json": {
       "model_id": "",
       "version_major": 2,
       "version_minor": 0
      },
      "text/plain": [
       "HBox(children=(FloatProgress(value=0.0, max=62606.0), HTML(value='')))"
      ]
     },
     "metadata": {},
     "output_type": "display_data"
    },
    {
     "name": "stdout",
     "output_type": "stream",
     "text": [
      "11260 1\n"
     ]
    },
    {
     "data": {
      "application/vnd.jupyter.widget-view+json": {
       "model_id": "",
       "version_major": 2,
       "version_minor": 0
      },
      "text/plain": [
       "HBox(children=(FloatProgress(value=0.0, max=11259.0), HTML(value='')))"
      ]
     },
     "metadata": {},
     "output_type": "display_data"
    },
    {
     "name": "stdout",
     "output_type": "stream",
     "text": [
      "oregon2_010519_adj.tsv\n"
     ]
    },
    {
     "data": {
      "application/vnd.jupyter.widget-view+json": {
       "model_id": "",
       "version_major": 2,
       "version_minor": 0
      },
      "text/plain": [
       "HBox(children=(FloatProgress(value=0.0, max=64574.0), HTML(value='')))"
      ]
     },
     "metadata": {},
     "output_type": "display_data"
    },
    {
     "name": "stdout",
     "output_type": "stream",
     "text": [
      "11375 1\n"
     ]
    },
    {
     "data": {
      "application/vnd.jupyter.widget-view+json": {
       "model_id": "",
       "version_major": 2,
       "version_minor": 0
      },
      "text/plain": [
       "HBox(children=(FloatProgress(value=0.0, max=11374.0), HTML(value='')))"
      ]
     },
     "metadata": {},
     "output_type": "display_data"
    },
    {
     "name": "stdout",
     "output_type": "stream",
     "text": [
      "p2p-Gnutella31_adj.tsv\n"
     ]
    },
    {
     "data": {
      "application/vnd.jupyter.widget-view+json": {
       "model_id": "",
       "version_major": 2,
       "version_minor": 0
      },
      "text/plain": [
       "HBox(children=(FloatProgress(value=0.0, max=295784.0), HTML(value='')))"
      ]
     },
     "metadata": {},
     "output_type": "display_data"
    },
    {
     "name": "stdout",
     "output_type": "stream",
     "text": [
      "62586 1\n"
     ]
    },
    {
     "data": {
      "application/vnd.jupyter.widget-view+json": {
       "model_id": "",
       "version_major": 2,
       "version_minor": 0
      },
      "text/plain": [
       "HBox(children=(FloatProgress(value=0.0, max=62585.0), HTML(value='')))"
      ]
     },
     "metadata": {},
     "output_type": "display_data"
    },
    {
     "name": "stdout",
     "output_type": "stream",
     "text": [
      "roadNet-CA_adj.tsv\n"
     ]
    },
    {
     "data": {
      "application/vnd.jupyter.widget-view+json": {
       "model_id": "",
       "version_major": 2,
       "version_minor": 0
      },
      "text/plain": [
       "HBox(children=(FloatProgress(value=0.0, max=5533214.0), HTML(value='')))"
      ]
     },
     "metadata": {},
     "output_type": "display_data"
    },
    {
     "name": "stdout",
     "output_type": "stream",
     "text": [
      "1965206 1\n"
     ]
    },
    {
     "data": {
      "application/vnd.jupyter.widget-view+json": {
       "model_id": "",
       "version_major": 2,
       "version_minor": 0
      },
      "text/plain": [
       "HBox(children=(FloatProgress(value=0.0, max=1965205.0), HTML(value='')))"
      ]
     },
     "metadata": {},
     "output_type": "display_data"
    },
    {
     "name": "stdout",
     "output_type": "stream",
     "text": [
      "soc-Epinions1_adj.tsv\n"
     ]
    },
    {
     "data": {
      "application/vnd.jupyter.widget-view+json": {
       "model_id": "",
       "version_major": 2,
       "version_minor": 0
      },
      "text/plain": [
       "HBox(children=(FloatProgress(value=0.0, max=811480.0), HTML(value='')))"
      ]
     },
     "metadata": {},
     "output_type": "display_data"
    },
    {
     "name": "stdout",
     "output_type": "stream",
     "text": [
      "75879 1\n"
     ]
    },
    {
     "data": {
      "application/vnd.jupyter.widget-view+json": {
       "model_id": "",
       "version_major": 2,
       "version_minor": 0
      },
      "text/plain": [
       "HBox(children=(FloatProgress(value=0.0, max=75878.0), HTML(value='')))"
      ]
     },
     "metadata": {},
     "output_type": "display_data"
    },
    {
     "name": "stdout",
     "output_type": "stream",
     "text": [
      "soc-Slashdot0902_adj.tsv\n"
     ]
    },
    {
     "data": {
      "application/vnd.jupyter.widget-view+json": {
       "model_id": "",
       "version_major": 2,
       "version_minor": 0
      },
      "text/plain": [
       "HBox(children=(FloatProgress(value=0.0, max=1008460.0), HTML(value='')))"
      ]
     },
     "metadata": {},
     "output_type": "display_data"
    },
    {
     "name": "stdout",
     "output_type": "stream",
     "text": [
      "82168 1\n"
     ]
    },
    {
     "data": {
      "application/vnd.jupyter.widget-view+json": {
       "model_id": "",
       "version_major": 2,
       "version_minor": 0
      },
      "text/plain": [
       "HBox(children=(FloatProgress(value=0.0, max=82167.0), HTML(value='')))"
      ]
     },
     "metadata": {},
     "output_type": "display_data"
    },
    {
     "name": "stdout",
     "output_type": "stream",
     "text": [
      "\n"
     ]
    }
   ],
   "source": [
    "path = \"data_temp/real_dataset\"\n",
    "for i in tqdm(os.listdir(path)):\n",
    "    print(i)\n",
    "    edge_index = []\n",
    "    data_path = os.path.join(path, i)\n",
    "    f = open(data_path, \"r\")\n",
    "    a = f.readlines()\n",
    "    for j in tqdm(a, leave=False):\n",
    "        edge = j.split(\"\\t\")\n",
    "        s = int(edge[0])\n",
    "        d = int(edge[1])\n",
    "        edge_index.append([s,d])\n",
    "\n",
    "    edge_index = np.array(edge_index)\n",
    "    # print(edge_index[:10],edge_index.shape)\n",
    "    max_index = np.max(edge_index[:,0])\n",
    "    min_index = np.min(edge_index[:,1])\n",
    "    print(max_index, min_index)\n",
    "\n",
    "    degree_dis = []\n",
    "    for ii in tqdm(range(min_index, max_index), leave=False):\n",
    "        degree_ = len(np.where(edge_index[:,0] == ii)[0])\n",
    "    #     print(degree_)\n",
    "        degree_dis.append(degree_)\n",
    "        \n",
    "    with open(\"{}_degree.p\".format(i), \"wb\") as ff:\n",
    "        pickle.dump(degree_dis, ff)\n"
   ]
  },
  {
   "cell_type": "code",
   "execution_count": null,
   "metadata": {},
   "outputs": [],
   "source": []
  },
  {
   "cell_type": "code",
   "execution_count": null,
   "metadata": {},
   "outputs": [],
   "source": [
    "def sigmoid(x):\n",
    "    return 1 / (1 +np.exp(-x))"
   ]
  },
  {
   "cell_type": "code",
   "execution_count": null,
   "metadata": {},
   "outputs": [],
   "source": [
    "J_list = []\n",
    "for i in [16, 36, 64, 100]:\n",
    "    std_J_A = 0.3\n",
    "    num_nodes_I=i\n",
    "    npr = np.random.RandomState(seed=33331)#\n",
    "    J = npr.normal(0, std_J_A, size=[num_nodes_I, num_nodes_I])\n",
    "    J = (J + J.transpose()) / 2.0\n",
    "    print(J[1])\n",
    "    for ii in range(len(J)):\n",
    "        J[ii,ii] = 0\n",
    "    J_list+=J.reshape(1,-1).tolist()"
   ]
  },
  {
   "cell_type": "code",
   "execution_count": null,
   "metadata": {},
   "outputs": [],
   "source": [
    "for i in J_list[0]:\n",
    "    if i != 0:\n",
    "        for ii in [1,2,3]:\n",
    "            if i in J_list[ii]:\n",
    "                print(i, ii)"
   ]
  },
  {
   "cell_type": "code",
   "execution_count": null,
   "metadata": {
    "scrolled": false
   },
   "outputs": [],
   "source": [
    "for a in [\"0.3\", \"0.6\", \"0.9\"]:\n",
    "    print(a)\n",
    "    path_list = [\n",
    "    \"E:/whole_data/exp1/data_temp/test/test_{}/16\".format(a),\n",
    "#     \"E:/whole_data/exp1/data_temp/test/test_{}/36\".format(a),\n",
    "#     \"E:/whole_data/exp1/data_temp/test/test_{}/64\".format(a),\n",
    "#     \"E:/whole_data/exp1/data_temp/test/test_{}/100\".format(a),\n",
    "    ]\n",
    "\n",
    "    topology = [\n",
    "    \"barbell_{}\".format(a), #0 - 9\n",
    "    \"barbell2_{}\".format(a), #10 -19\n",
    "    \"binarytree_{}\".format(a), #20 -29\n",
    "    \"bipartite_{}\".format(a), #30 - 39\n",
    "    \"circladder_{}\".format(a), #40 -49\n",
    "\n",
    "    \"complete_{}\".format(a), #50 - 59\n",
    "    \"cycle_{}\".format(a), #60 - 69\n",
    "    \"cylinder_{}\".format(a), #70 - 79\n",
    "    \"grid_{}\".format(a), #80 - 89\n",
    "    \"ladder_{}\".format(a), #90 - 99\n",
    "\n",
    "    \"path_{}\".format(a), #100 - 109\n",
    "    \"torus_{}\".format(a), #110 - 119\n",
    "    \"trigrid_{}\".format(a),  #120 - 129\n",
    "    \"trikite_{}\".format(a), #130 - 139\n",
    "    \"trilattice_{}\".format(a), #140 - 149\n",
    "    ]\n",
    "\n",
    "    \n",
    "    \n",
    "    for i,j in tqdm(product(path_list, topology), leave=False):\n",
    "        path_ = os.path.join(i,j)\n",
    "        J_list = []\n",
    "        J_list2 = []\n",
    "        for ii in os.listdir(path_)[:1]:\n",
    "            count += 1\n",
    "            path__ = os.path.join(path_, ii)\n",
    "            data = pickle.load(open(path__, \"rb\"))\n",
    "            J = data[\"J\"].todense()\n",
    "            J_list2.append(J[0,1])\n",
    "            J_list+=J.reshape(1,-1).tolist()\n",
    "            \n",
    "        J_list = np.concatenate(np.array(J_list)) \n",
    "\n",
    "        print(i,j, len(J_list), len(np.where(J_list==0)[0]), len(np.unique(J_list)), 2*(len(np.unique(J_list))-1) + len(np.where(J_list==0)[0]))\n",
    "#     print(J_list2)\n",
    "#     for i in J_list2:\n",
    "#         print(np.where(np.array(J_list2) == i))\n"
   ]
  },
  {
   "cell_type": "code",
   "execution_count": null,
   "metadata": {
    "scrolled": false
   },
   "outputs": [],
   "source": [
    "i = 31\n",
    "data1=pickle.load(open(\"E:/whole_data/exp1/data_temp/test/test_0.3/36/bipartite_0.3/graph_bipartite_nn36_0000001.p\", \"rb\"))\n",
    "print(data1['J'].todense()[i].round(2))\n",
    "data2=pickle.load(open(\"E:/whole_data/exp1/data_temp/test/test_0.3/36/barbell2_0.3/graph_barbell646_nn36_0000001.p\", \"rb\"))\n",
    "print(data2['J'].todense()[i].round(2))\n",
    "for idx, i in enumerate(data1['J'].todense().round(2) * data2['J'].todense().round(2)):\n",
    "    print(idx, i)"
   ]
  },
  {
   "cell_type": "code",
   "execution_count": null,
   "metadata": {},
   "outputs": [],
   "source": [
    "data = pickle.load(open(\"E:/test/test_03/graph_barbell646_nn36_0000001.p\", \"rb\"))\n",
    "print(data.keys(), data['J'].todense()[0,1])\n",
    "data = pickle.load(open(\"E:/test/test_03/graph_barbell808_nn36_0000001.p\", \"rb\"))\n",
    "print(data.keys(), data['J'].todense()[0,1])\n",
    "data = pickle.load(open(\"E:/test/test_03/graph_binarytree_nn36_0000001.p\", \"rb\"))\n",
    "print(data.keys(), data['J'].todense()[0,1])\n",
    "data = pickle.load(open(\"E:/test/test_03/graph_circladder_nn36_0000001.p\", \"rb\"))\n",
    "print(data.keys(), data['J'].todense()[0,1])\n",
    "data = pickle.load(open(\"E:/test/test_03/graph_trilattice_nn36_0000001.p\", \"rb\"))\n",
    "print(data.keys(), data['J'].todense()[0,1])\n",
    "data = pickle.load(open(\"E:/whole_data/exp1/data_temp/test/test_0.3/16/barbell2_0.3/graph_barbell646_nn16_0000001.p\", \"rb\"))\n",
    "print(data.keys(), data['J'].todense()[0,1])\n",
    "\n",
    "data = pickle.load(open(\"E:/whole_data/exp1/data_temp/test/test_0.3/100/complete_0.3/graph_complete_nn100_0000040.p\", \"rb\"))\n",
    "print(data.keys(), data['J'].todense()[0,1])\n",
    "\n",
    "data = pickle.load(open(\"E:/whole_data/exp1/data_temp/test/test_0.3/100/complete_0.3/graph_complete_nn100_0000301.p\", \"rb\"))\n",
    "print(data.keys(), data['J'].todense()[0,1])"
   ]
  },
  {
   "cell_type": "code",
   "execution_count": 11,
   "metadata": {},
   "outputs": [
    {
     "data": {
      "text/plain": [
       "(matrix([[ 0.        ,  0.12846675, -0.22929528, ..., -0.01934806,\n",
       "           0.04131658, -0.26665351],\n",
       "         [ 0.12846675,  0.        , -0.088703  , ...,  0.09626612,\n",
       "          -0.28388593, -0.13321803],\n",
       "         [-0.22929528, -0.088703  ,  0.        , ...,  0.00162868,\n",
       "          -0.19343307, -0.09047757],\n",
       "         ...,\n",
       "         [-0.01934806,  0.09626612,  0.00162868, ...,  0.        ,\n",
       "           0.149973  , -0.06619487],\n",
       "         [ 0.04131658, -0.28388593, -0.19343307, ...,  0.149973  ,\n",
       "           0.        , -0.22265598],\n",
       "         [-0.26665351, -0.13321803, -0.09047757, ..., -0.06619487,\n",
       "          -0.22265598,  0.        ]]),\n",
       " 4792,\n",
       " dict_keys(['prob_hmc', 'prob_gibbs', 'J', 'b', 'seed_train', 'J_std', 'b_std', 'name', 'msg_node', 'idx_msg_edge', 'J_msg', 'gibb_burn_in', 'gibb_num_sample', 'block_size', 'hmc_burn_in', 'hmc_num_sample', 'trv_time', 'hmc_time', 'gibbs_time']))"
      ]
     },
     "execution_count": 11,
     "metadata": {},
     "output_type": "execute_result"
    }
   ],
   "source": [
    "data = pickle.load(open(\"C:/Users/mokss/Dropbox/aws/aws_gen/data_temp/group_2_0/train/fail/graph_WL_graph_nn100_k52.08695652173913_p0.01790_0000021.p_nn100_0000002.p\", \"rb\"))\n",
    "J = data['J'].todense()\n",
    "J, len(np.where(J == 0)[0]), data.keys()"
   ]
  },
  {
   "cell_type": "markdown",
   "metadata": {},
   "source": [
    "# reverse"
   ]
  },
  {
   "cell_type": "code",
   "execution_count": null,
   "metadata": {},
   "outputs": [],
   "source": [
    "plt.figure(figsize = (30,10))\n",
    "for idx, i in enumerate([    \n",
    "\"GNN_hyunmok/GNN_exp2/J0.3_b0.25/NodeGNN_001_rand_crf_2020-Nov-19-15-49-35_train_binarytree_64_10_add\",\n",
    "\"GNN_hyunmok/GNN_exp2/J0.3_b0.25/NodeGNN_001_rand_crf_2020-Nov-19-15-49-38_train_grid_64_10_add\",\n",
    "\"GNN_hyunmok/GNN_exp2/J0.3_b0.25/NodeGNN_001_rand_crf_2020-Nov-19-15-49-41_train_trigrid_64_10_add\",\n",
    "\"GNN_hyunmok/GNN_exp2/J0.3_b0.25/NodeGNN_001_rand_crf_2020-Nov-19-15-49-44_train_bipartite_64_10_add\",\n",
    "\"GNN_hyunmok/GNN_exp2/J0.3_b0.25/NodeGNN_001_rand_crf_2020-Dec-05-21-02-25_train_all_64_10_add\",\n",
    "\n",
    "\"GNN_hyunmok/GNN_exp2/J0.6_b0.25/NodeGNN_001_rand_crf_2020-Nov-20-03-08-42_train_binarytree_64_10_add\",\n",
    "\"GNN_hyunmok/GNN_exp2/J0.6_b0.25/NodeGNN_001_rand_crf_2020-Nov-20-03-08-45_train_grid_64_10_add\",\n",
    "\"GNN_hyunmok/GNN_exp2/J0.6_b0.25/NodeGNN_001_rand_crf_2020-Nov-20-03-08-48_train_trigrid_64_10_add\",\n",
    "\"GNN_hyunmok/GNN_exp2/J0.6_b0.25/NodeGNN_001_rand_crf_2020-Nov-20-03-08-51_train_bipartite_64_10_add\",\n",
    "\"GNN_hyunmok/GNN_exp2/J0.6_b0.25/NodeGNN_001_rand_crf_2020-Dec-05-21-02-28_train_all_64_10_add\",\n",
    "\n",
    "\"GNN_hyunmok/GNN_exp2/J0.9_b0.25/NodeGNN_001_rand_crf_2020-Nov-20-03-08-54_train_binarytree_64_10_add\",\n",
    "\"GNN_hyunmok/GNN_exp2/J0.9_b0.25/NodeGNN_001_rand_crf_2020-Nov-20-03-08-57_train_grid_64_10_add\",\n",
    "\"GNN_hyunmok/GNN_exp2/J0.9_b0.25/NodeGNN_001_rand_crf_2020-Nov-20-03-09-00_train_trigrid_64_10_add\",\n",
    "\"GNN_hyunmok/GNN_exp2/J0.9_b0.25/NodeGNN_001_rand_crf_2020-Nov-20-03-09-03_train_bipartite_64_10_add\",\n",
    "\"GNN_hyunmok/GNN_exp2/J0.9_b0.25/NodeGNN_001_rand_crf_2020-Dec-06-13-55-05_train_all_64_10_add\"]):\n",
    "    \n",
    "    stats_path = os.path.join(i, \"train_stats.p\")\n",
    "    stats = pickle.load(open(stats_path, \"rb\"))\n",
    "    val = stats['val_loss']\n",
    "    min_val = stats['best_val_loss'][0]\n",
    "    min_epoch = np.where(val == min_val)[0]\n",
    "    plt.subplot(3,5,idx+1)\n",
    "    plt.plot(val)\n",
    "    plt.scatter(min_epoch, min_val, c='red')\n",
    "    plt.title(i[74:-4] + \"\\n {} epoch, loss : {:10.2e} \".format(min_epoch[0], min_val))\n",
    "    \n",
    "plt.subplots_adjust(hspace=0.4)"
   ]
  },
  {
   "cell_type": "code",
   "execution_count": null,
   "metadata": {},
   "outputs": [],
   "source": [
    "data = pickle.load(open(\"D:/whole_data/exp2/data_temp/V=100/100_list_shell.p\", \"rb\"))['prop_list']\n",
    "name_list2 = pickle.load(open(\"D:/whole_data/exp2/data_temp/V=100/100_list_shell.p\", \"rb\"))['name_list']\n",
    "\n",
    "data = np.array(data).reshape(-1, 6).tolist()\n",
    "name_list2 = np.array(name_list2).reshape(-1,1).tolist()\n",
    "\n",
    "data_mean = np.mean(data, axis=0)\n",
    "data_scaled = data - data_mean\n",
    "pca = PCA(n_components=6)\n",
    "pca.fit(data_scaled)\n",
    "X_low = pca.transform(data_scaled)"
   ]
  },
  {
   "cell_type": "code",
   "execution_count": null,
   "metadata": {},
   "outputs": [],
   "source": [
    "name_list2[0][0]"
   ]
  },
  {
   "cell_type": "code",
   "execution_count": null,
   "metadata": {},
   "outputs": [],
   "source": [
    "#[(16, 14, 13, 12, 11) (16, 15, 14, 13, 11) (16, 15, 14, 13, 12, 11)] 1581"
   ]
  },
  {
   "cell_type": "code",
   "execution_count": null,
   "metadata": {},
   "outputs": [],
   "source": [
    "np.mean((16, 14, 13, 12, 11)), np.mean((16, 15, 14, 13, 11)), np.mean((16, 15, 14, 13, 12, 11))"
   ]
  },
  {
   "cell_type": "code",
   "execution_count": null,
   "metadata": {},
   "outputs": [],
   "source": [
    "f = pickle.load(open(\"GNN_hyunmok/asdf.p\", \"rb\"))\n",
    "np.unique(f)"
   ]
  },
  {
   "cell_type": "code",
   "execution_count": null,
   "metadata": {},
   "outputs": [],
   "source": [
    "deg_count = 0\n",
    "name_list = []\n",
    "X_low_sampled = []\n",
    "for idx, i in tqdm(enumerate(X_low), desc=\"inner\", leave=False):\n",
    "    if -0.35 < 1/30 * i[0] - 6  - i[1] < 0.35:\n",
    "        name_list.append(name_list2[idx])\n",
    "        X_low_sampled.append(i)\n",
    "\n",
    "X_low_sampled = np.array(X_low_sampled)\n",
    "min_x,max_x = np.min(X_low_sampled[:,0]), np.max(X_low_sampled[:,0])\n",
    "min_y,max_y = np.min(X_low_sampled[:,1]), np.max(X_low_sampled[:,1])\n",
    "min_x, max_x, min_y, max_y\n",
    "\n",
    "x_space = np.linspace(min_x, max_x, 20)[1:-1:4]\n",
    "y_space = np.linspace(min_y, max_y, 20)[1:-1:4]\n",
    "\n",
    "x_space = np.array([-71.46428771, -36.47970338,  -3.49511905,  30.48946528,\n",
    "         63.77404961])\n",
    "\n",
    "x_space, y_space"
   ]
  },
  {
   "cell_type": "code",
   "execution_count": null,
   "metadata": {},
   "outputs": [],
   "source": [
    "X_low_sampled = []\n",
    "X_low_sampled_name = []\n",
    "for x,y in tqdm(zip(x_space, y_space), desc=\"outer\", leave=False):\n",
    "    a = []\n",
    "    b = []\n",
    "    for idx, i in tqdm(enumerate(X_low), desc=\"inner\", leave=False):\n",
    "        if abs(i[0] - x) < 1 and abs(i[1] - y) < 0.3:\n",
    "            a.append(i)\n",
    "            b.append(name_list2[idx])\n",
    "    a =np.array(a)\n",
    "    X_low_sampled_name.append(b)\n",
    "    X_low_sampled.append(a)          \n",
    "\n",
    "X_low_sampled = np.array(X_low_sampled)\n",
    "\n",
    "for i in X_low_sampled:\n",
    "    print(len(i))\n",
    "\n",
    "plt.scatter(-X_low[:,0], -X_low[:,1], s=0.1)\n",
    "for i in X_low_sampled:\n",
    "    plt.scatter(-i[:,0],-i[:,1],s=0.1,c='yellow')\n",
    "plt.scatter(-x_space, -y_space,s=10,marker='X',c='black')\n",
    "plt.grid()"
   ]
  },
  {
   "cell_type": "code",
   "execution_count": null,
   "metadata": {},
   "outputs": [],
   "source": [
    "plt.scatter(-X_low[:,0], -X_low[:,1], s=0.1)\n",
    "for i in X_low_sampled:\n",
    "    plt.scatter(-i[:,0],-i[:,1],s=0.1,c='yellow', marker='X')\n",
    "plt.scatter(-x_space, -y_space,s=20,marker='X',c='black')\n",
    "\n",
    "# plt.xlim(-80,-60)\n",
    "# plt.ylim(-10, -6)\n",
    "\n",
    "# plt.xlim(-40,-30)\n",
    "# plt.ylim(-9, -5)\n",
    "\n",
    "# plt.xlim(-10,0)\n",
    "# plt.ylim(-7, -3)\n",
    "\n",
    "# plt.xlim(20,40)\n",
    "# plt.ylim(-6, -2)\n",
    "\n",
    "plt.xlim(-55,-75)\n",
    "plt.ylim(6, 2)\n",
    "plt.grid()"
   ]
  },
  {
   "cell_type": "code",
   "execution_count": null,
   "metadata": {},
   "outputs": [],
   "source": [
    "np.array(X_low_sampled_name).shape"
   ]
  },
  {
   "cell_type": "code",
   "execution_count": null,
   "metadata": {},
   "outputs": [],
   "source": [
    "my_list = os.listdir(\"/Users/pc1/Dropbox/GNN_hyunmok/data_temp2/unique_degree_shell/(3,2,1)/train\")"
   ]
  },
  {
   "cell_type": "code",
   "execution_count": null,
   "metadata": {},
   "outputs": [],
   "source": [
    "n=100\n",
    "result = [my_list[i * n:(i + 1) * n] for i in range((len(my_list) + n - 1) // n )] \n",
    "for i in result:\n",
    "    print(len(i))"
   ]
  },
  {
   "cell_type": "code",
   "execution_count": null,
   "metadata": {},
   "outputs": [],
   "source": [
    "X_low_sampled_name[0]"
   ]
  },
  {
   "cell_type": "code",
   "execution_count": null,
   "metadata": {},
   "outputs": [],
   "source": [
    "for kk in [\"(3,2,1)\", \"(4,3,2)\", \"(5,4,3)\", \"(6,5,4)\", \"(7,6,5)\",\n",
    "           \"(8,7,6)\", \"(9,8,7)\", \"(10,9,8)\", \"(11,10,9)\", \"(12,11,10)\",\n",
    "           \"(13,12,11)\", \"(14,13,12)\", \"(15,14,13)\"]:\n",
    "\n",
    "    unique_list = pickle.load(open(\"GNN_hyunmok/data_temp_server/{}_Unigra.p\".format(kk), \"rb\"))['unique_graph']\n",
    "    print(len(unique_list))"
   ]
  },
  {
   "cell_type": "code",
   "execution_count": null,
   "metadata": {},
   "outputs": [],
   "source": [
    "@func_set_timeout(2)\n",
    "def iso(G1, G2):\n",
    "    return nx.could_be_isomorphic(G1, G2)"
   ]
  },
  {
   "cell_type": "code",
   "execution_count": null,
   "metadata": {},
   "outputs": [],
   "source": [
    "J_data = pickle.load(open(\"/Users/pc1/Dropbox/GNN_hyunmok/data_temp_server/V=16/gitcode/unique_degree_shell/0.p\",\n",
    "        \"rb\"))['J_data']\n",
    "name = pickle.load(open(\n",
    "    \"/Users/pc1/Dropbox/GNN_hyunmok/data_temp_server/V=16/gitcode/unique_degree_shell/0.p\",\n",
    "    \"rb\"))['name']\n",
    "\n",
    "print(len(J_data), len(name))\n",
    "idx = [i for i in range(len(J_data))]\n",
    "iso_list = []\n",
    "\n",
    "while True:\n",
    "    J1 = J_data[idx[0]].todense()\n",
    "    G1 = nx.from_numpy_array(J1)\n",
    "    iso_list.append(name[idx[0]])\n",
    "    remove_list = [idx[0]]\n",
    "\n",
    "    for i in tqdm(idx[1:], leave=False):\n",
    "        J2 = J_data[i].todense()\n",
    "        G2 = nx.from_numpy_array(J2)\n",
    "\n",
    "        try:\n",
    "            a = iso(G1, G2)\n",
    "        except:\n",
    "            a = iso(G2, G1)\n",
    "        if a:\n",
    "            remove_list.append(i)\n",
    "\n",
    "    for i in remove_list:\n",
    "        idx.remove(i)\n",
    "\n",
    "    if len(idx) <= 1:\n",
    "        break\n",
    "    # print(iso_list)\n",
    "\n",
    "print(\"saving data isolist : \", len(iso_list))"
   ]
  },
  {
   "cell_type": "code",
   "execution_count": null,
   "metadata": {},
   "outputs": [],
   "source": [
    "for kk in [\"(15,14,13)\"]:\n",
    "        #[\"(3,2,1)\", \"(4,3,2)\", \"(5,4,3)\", \"(6,5,4)\", \"(7,6,5)\",\n",
    "           #\"(8,7,6)\", \"(9,8,7)\", \"(10,9,8)\", \"(11,10,9)\", \"(12,11,10)\",\n",
    "        #, \"(14,13,12)\", \"(15,14,13)\"]:\n",
    "    path = os.path.join(\"GNN_hyunmok/data_temp_server/V=16/gitcode/unique_degree2\", kk)\n",
    "    J_list = []\n",
    "    \n",
    "    for i in os.listdir(path):\n",
    "        graph = os.path.join(path, i)\n",
    "        graph = pickle.load(open(graph, \"rb\"))\n",
    "        J = graph['J'].todense()\n",
    "        G = nx.from_numpy_array(J)\n",
    "        J_list.append(G)\n",
    "    path2 = os.path.join(\"GNN_hyunmok/data_temp_server/V=16/gitcode/unique_degree_shell\", kk)\n",
    "    J_list2 = []\n",
    "    for i in os.listdir(path2):\n",
    "        graph = os.path.join(path2, i)\n",
    "        graph = pickle.load(open(graph, \"rb\"))\n",
    "        J = graph['J'].todense()\n",
    "        G = nx.from_numpy_array(J)\n",
    "        J_list2.append(G)\n",
    "\n",
    "    idx_list = []\n",
    "    for i in tqdm(J_list):\n",
    "        for idx, j in enumerate(J_list2):\n",
    "            try:\n",
    "                a = iso(i, j)\n",
    "            except:\n",
    "                a = iso(j, i)            \n",
    "                \n",
    "            if a:\n",
    "                idx_list.append(idx)\n",
    "                break\n",
    "    \n",
    "    print(len(J_list), len(J_list2), len(np.unique(idx_list)))"
   ]
  },
  {
   "cell_type": "code",
   "execution_count": null,
   "metadata": {},
   "outputs": [],
   "source": [
    "result = {}\n",
    "result['J_list'] = len(J_list)\n",
    "result['J_list2'] = len(J_list2)\n",
    "result['result '] = len(np.unique(idx_list)))\n",
    "\n",
    "with open(\"result.p\", \"wb\") as f:\n",
    "    pickle.dump(result, f)\n",
    "    del result"
   ]
  },
  {
   "cell_type": "code",
   "execution_count": null,
   "metadata": {
    "scrolled": false
   },
   "outputs": [],
   "source": [
    "sub_dict = pickle.load(open(\"/Users/pc1/Dropbox/GNN_hyunmok/data_temp_server/V=16/gitcode/WL_flex_graphs_16_pca_sub_250.p\", \"rb\"))\n",
    "print(sub_dict.keys())\n",
    "# f = plt.figure(figsize=(20,10))\n",
    "X_low = np.array(sub_dict['X_low'])\n",
    "plt.scatter(X_low[:,0], -X_low[:,1], s=1)\n",
    "\n",
    "x_for_reverse = []\n",
    "coordi = []\n",
    "for idx, i in enumerate(sub_dict['X_low']):       \n",
    "    if abs(i[1]+1) < 0.9 and int(i[1])==-1:\n",
    "        x_for_reverse.append([sub_dict['name_list'][idx],i])\n",
    "\n",
    "\n",
    "x_for_reverse2 = []\n",
    "for graph in x_for_reverse:\n",
    "    graph_path = os.path.join(\"GNN_hyunmok/data_temp_server/V=16/gitcode/WL_flex_graphs_16_pca_sub_250\", graph[0])\n",
    "    Graph = pickle.load(open(graph_path, 'rb'))\n",
    "    G = nx.from_numpy_array(Graph['J'].todense())\n",
    "    _, deg, _ = degree(G)\n",
    "    x_for_reverse2.append([graph[1][0],graph[1][1], deg, graph[0]])\n",
    "    \n",
    "x_for_reverse2 = sorted(x_for_reverse2, key=lambda x:x[2])\n",
    "x_for_reverse2 = np.array(x_for_reverse2)\n",
    "\n",
    "# print(x_for_reverse2)\n",
    "\n",
    "plt.scatter(x_for_reverse2[:,0],-x_for_reverse2[:,1], marker='x', color='orange', s=10)\n",
    "\n",
    "# for graph in zip(x_for_reverse2):\n",
    "#     graph_path = os.path.join(\"GNN_hyunmok/data_temp_server/V=16/gitcode/WL_flex_graphs_16_pca_sub_250\", graph[0][3])\n",
    "#     Graph = pickle.load(open(graph_path, 'rb'))\n",
    "#     G = nx.from_numpy_array(Graph['J'].todense())\n",
    "#     _, deg, _ = degree(G)\n",
    "#     print(graph[0][0], graph[0][1], graph[0][2])\n",
    "#     plt.text(graph[0][0]-0.5,-(graph[0][1]-0.4), graph[0][2], fontsize=8)\n",
    "\n",
    "#     try:\n",
    "#         os.mkdir(\"GNN_hyunmok/data_temp_server/V=16/gitcode/unique_degree/degree#3/{}\".format(deg))\n",
    "#     except:\n",
    "#         pass\n",
    "   \n",
    "#     src = os.path.join(\"GNN_hyunmok/data_temp_server/V=16/gitcode/WL_flex_graphs_16_pca_sub_250\", graph[0][3])\n",
    "#     dst = os.path.join(\"GNN_hyunmok/data_temp_server/V=16/gitcode/unique_degree/degree#3/{}\".format(deg), graph[0][3])\n",
    "#     shutil.copyfile(src, dst)\n",
    "plt.xlabel(\"Pricipal component1\", fontsize = 10)\n",
    "plt.ylabel(\"Pricipal component2\", fontsize = 10)\n",
    "plt.title(\"1,254 data\", fontsize = 10)\n",
    "    "
   ]
  },
  {
   "cell_type": "code",
   "execution_count": null,
   "metadata": {},
   "outputs": [],
   "source": [
    "pickle.load(open(\"/Users/pc1/Dropbox/GNN_hyunmok/data_temp_server/V=16/gitcode/16_list.p\", \"rb\"))['name_list'][0]"
   ]
  },
  {
   "cell_type": "code",
   "execution_count": null,
   "metadata": {
    "scrolled": false
   },
   "outputs": [],
   "source": [
    "sub_dict = pickle.load(open(\"GNN_hyunmok/data_temp_server/V=100/100_list.p\", \"rb\"))\n",
    "sub_dict.keys()\n",
    "f = plt.figure(figsize=(20,10))\n",
    "X_low = np.array(sub_dict['X_low'])\n",
    "plt.scatter(-X_low[:,0], -X_low[:,1])\n",
    "\n",
    "x_for_reverse = []\n",
    "coordi = []\n",
    "for idx, i in enumerate(sub_dict['X_low']):       \n",
    "    if -1 < 1/30 * i[0] - 6  - i[1] < 1:\n",
    "        x_for_reverse.append([sub_dict['name_list'][idx],i])\n",
    "\n",
    "\n",
    "x_for_reverse2 = []\n",
    "for graph in x_for_reverse:\n",
    "    graph_path = os.path.join(\"GNN_hyunmok/data_temp_server/V=100/100\", graph[0])\n",
    "    Graph = pickle.load(open(graph_path, 'rb'))\n",
    "    G = nx.from_numpy_array(Graph['J'].todense())\n",
    "    _, deg, _ = degree(G)\n",
    "    if len(deg) == 6:\n",
    "        x_for_reverse2.append([graph[1][0],graph[1][1], deg, graph[0]])\n",
    "    \n",
    "x_for_reverse2 = sorted(x_for_reverse2, key=lambda x:x[2])\n",
    "x_for_reverse2 = np.array(x_for_reverse2)\n",
    "\n",
    "# print(x_for_reverse2)\n",
    "\n",
    "plt.scatter(-x_for_reverse2[:,0],-x_for_reverse2[:,1], marker='x', color='yellow')\n",
    "\n",
    "for graph in zip(x_for_reverse2):\n",
    "    graph_path = os.path.join(\"GNN_hyunmok/data_temp_server/V=100/WL_flex_graphs_100_pca_sub_50\", graph[0][3])\n",
    "    Graph = pickle.load(open(graph_path, 'rb'))\n",
    "    G = nx.from_numpy_array(Graph['J'].todense())\n",
    "    _, deg, _ = degree(G)\n",
    "    print(graph[0][0], graph[0][1], graph[0][2])\n",
    "#     plt.text(graph[0][0]-0.5,-(graph[0][1]-0.4), graph[0][2], fontsize=8)\n",
    "\n",
    "#     try:\n",
    "#         os.mkdir(\"GNN_hyunmok/data_temp_server/V=16/gitcode/unique_degree/degree#3/{}\".format(deg))\n",
    "#     except:\n",
    "#         pass\n",
    "   \n",
    "#     src = os.path.join(\"GNN_hyunmok/data_temp_server/V=16/gitcode/WL_flex_graphs_16_pca_sub_250\", graph[0][3])\n",
    "#     dst = os.path.join(\"GNN_hyunmok/data_temp_server/V=16/gitcode/unique_degree/degree#3/{}\".format(deg), graph[0][3])\n",
    "#     shutil.copyfile(src, dst)\n",
    "    \n",
    "plt.xlabel(\"Priciple component1\", fontsize = 20)\n",
    "plt.ylabel(\"Priciple component2\", fontsize = 20)\n",
    "plt.title(\"1,583 data\", fontsize = 20)"
   ]
  },
  {
   "cell_type": "code",
   "execution_count": null,
   "metadata": {
    "scrolled": true
   },
   "outputs": [],
   "source": [
    "for kk in [\"(3,2,1)\", \"(4,3,2)\", \"(5,4,3)\", \"(6,5,4)\", \"(7,6,5)\",\n",
    "           \"(8,7,6)\", \"(9,8,7)\", \"(10,9,8)\", \"(11,10,9)\", \"(12,11,10)\",\n",
    "           \"(13,12,11)\", \"(14,13,12)\", \"(15,14,13)\"]:\n",
    "    \n",
    "    path = \"/Users/pc1/Dropbox/GNN_hyunmok/data_temp_server/V=16/gitcode/unique_degree2/{}\".format(kk)\n",
    "\n",
    "    prop_list = []\n",
    "    J_list = []\n",
    "    for i in tqdm(os.listdir(path)):\n",
    "        graph_path = os.path.join(path, i)\n",
    "        graph = pickle.load(open(graph_path, \"rb\"))\n",
    "        J = graph['J'].todense()\n",
    "        J_list.append(J)\n",
    "        G = nx.from_numpy_array(J)\n",
    "        _, deg, _ = degree(G)\n",
    "        if len(deg) != 3:\n",
    "            print(deg)\n",
    "        prop_list.append([np.mean(deg), np.std(deg), np.max(deg), np.mean(deg), nx.average_clustering(G), nx.average_shortest_path_length(G)])\n",
    "    prop_list = np.array(prop_list)\n",
    "    print(len(prop_list), len(np.unique(prop_list, axis=0)))\n",
    "#     print(np.unique(prop_list))\n",
    "\n",
    "    # for i,j in tqdm(product(range(len(prop_list)), range(len(prop_list)))):\n",
    "    #     if i!= j:\n",
    "    #         J1 = J_list[i]\n",
    "    #         J2 = J_list[j]\n",
    "    #         G1 = nx.from_numpy_array(J1)\n",
    "    #         G2 = nx.from_numpy_array(J2)\n",
    "    #         if nx.is_isomorphic(G1, G2):\n",
    "    #             print(\"Error\")\n"
   ]
  },
  {
   "cell_type": "code",
   "execution_count": null,
   "metadata": {},
   "outputs": [],
   "source": [
    "path1 = \"/Users/pc1/Dropbox/GNN_hyunmok/data_temp_server/V=16/gitcode/unique_degree2/(3,2,1)\""
   ]
  },
  {
   "cell_type": "code",
   "execution_count": null,
   "metadata": {},
   "outputs": [],
   "source": [
    "seed_list = [4,3]\n",
    "num_sample = [221,658]\n",
    "for kk, seed, num in zip([\"(3,2,1)\",\"(4,3,2)\"], seed_list, num_sample):\n",
    "    \n",
    "    path1 = \"GNN_hyunmok/data_temp2/unique_degree_shell/{}/train\".format(kk)\n",
    "    path2 = \"GNN_hyunmok/data_temp2/unique_degree_shell/sampled/{}/train\".format(kk)\n",
    "    \n",
    "    try:\n",
    "        os.mkdir(\"GNN_hyunmok/data_temp2/unique_degree_shell/sampled/{}\".format(kk))\n",
    "        os.mkdir(path2)\n",
    "    except:\n",
    "        print(\"Er\")\n",
    "        pass\n",
    "\n",
    "    graph_list1 = sorted(os.listdir(path1))\n",
    "    \n",
    "    for i in graph_list1:\n",
    "        if i[-3] != str(seed):\n",
    "            scr = os.path.join(path1, i)\n",
    "            dst = os.path.join(path2, i)\n",
    "            shutil.copyfile(scr, dst)\n",
    "    \n",
    "    sample_list = []\n",
    "    for i in graph_list1:\n",
    "        if i[-3] == str(seed):\n",
    "            sample_list.append(i)\n",
    "\n",
    "    sample_idx1 = random.sample(sample_list, num)\n",
    "    print(len(np.unique(sample_idx1)))\n",
    "    \n",
    "    for i in sample_idx1:\n",
    "        scr = os.path.join(path1, i)\n",
    "        dst = os.path.join(path2, i)\n",
    "        shutil.copyfile(scr, dst)\n",
    "\n",
    "    \n",
    "        \n",
    "    path3 = \"GNN_hyunmok/data_temp2/unique_degree_shell/{}/val\".format(kk)\n",
    "    path4 = \"GNN_hyunmok/data_temp2/unique_degree_shell/sampled/{}/val\".format(kk)\n",
    "    \n",
    "    try:\n",
    "        os.mkdir(\"GNN_hyunmok/data_temp2/unique_degree_shell/sampled/{}\".format(kk))\n",
    "    except:\n",
    "        print(\"Er\")\n",
    "        pass\n",
    "    \n",
    "    try:\n",
    "        os.mkdir(path4)\n",
    "    except:\n",
    "        pass\n",
    "\n",
    "    graph_list2 = os.listdir(path3)\n",
    "\n",
    "    idx_list2 = [i for i in range(len(graph_list2))]\n",
    "    \n",
    "    sample_idx2 = random.sample(idx_list2, 100)\n",
    "    print(len(np.unique(sample_idx2)))\n",
    "\n",
    "    for i in sample_idx2:\n",
    "        scr = os.path.join(path3, graph_list2[i])\n",
    "        dst = os.path.join(path4, graph_list2[i])\n",
    "        shutil.copyfile(scr, dst)"
   ]
  },
  {
   "cell_type": "code",
   "execution_count": null,
   "metadata": {},
   "outputs": [],
   "source": [
    "os.listdir(\"E:/WL_flex_graphs_100_shell\")[0] "
   ]
  },
  {
   "cell_type": "markdown",
   "metadata": {
    "heading_collapsed": true
   },
   "source": [
    "# HMC vs GIBBS"
   ]
  },
  {
   "cell_type": "code",
   "execution_count": null,
   "metadata": {
    "hidden": true
   },
   "outputs": [],
   "source": [
    "import shutil"
   ]
  },
  {
   "cell_type": "code",
   "execution_count": null,
   "metadata": {
    "hidden": true,
    "scrolled": true
   },
   "outputs": [],
   "source": [
    "path = \"data_temp_server/V=100/data_temp\"\n",
    "J_list = []\n",
    "count = 1\n",
    "plt.figure(0, figsize = (12,240), dpi=100)\n",
    "diff_avg_list = []\n",
    "graph_list = pickle.load(open(\"data_gen_aws/graph_list.p\", \"rb\"))\n",
    "fail_idx = []\n",
    "fail_list = []\n",
    "pass_count = 0\n",
    "for i in tqdm(os.listdir(path)):\n",
    "    if 'WL' in i:\n",
    "        graph_path = os.path.join(path, i)\n",
    "        graph = pickle.load(open(graph_path, \"rb\"))\n",
    "        J = graph['J'].todense()\n",
    "        G = nx.from_numpy_array(J)\n",
    "        _, deg, _ = degree(G)\n",
    "\n",
    "        J_list.append(len(np.where(J != 0)[0]))\n",
    "        seed = graph['seed_test']\n",
    "        gibbs_time = graph['gibbs_time']\n",
    "        hmc_time = graph['hmc_time']\n",
    "        gibbs = graph['prob_gibbs']\n",
    "        hmc = graph['prob_hmc']\n",
    "        diff = np.mean(abs(gibbs[:,0]-hmc[:,0]))\n",
    "        diff_avg_list.append([diff, np.mean(deg)])\n",
    "\n",
    "        for ii,jj in product(range(100), range(100)):\n",
    "            if J[ii,jj] != J[jj,ii]:\n",
    "                print(\"Error\")\n",
    "            if J[ii,ii] != 0:\n",
    "                print(\"errer\")\n",
    "\n",
    "        if(diff < 0.03):\n",
    "            color = 'red'\n",
    "            pass_count += 1\n",
    "            \n",
    "#             src = os.path.join(\"data_temp_server/V=100/3/data_temp\", i)\n",
    "#             dst = os.path.join(\"data_temp_server/V=100/data_temp_pass\", i)\n",
    "#             shutil.copyfile(src, dst)\n",
    "            \n",
    "        else:\n",
    "            color = None\n",
    "            idx = int(np.where(graph_list['name_list'] == graph['name'])[0])\n",
    "            fail_idx.append(idx)\n",
    "            fail_list.append(i.split('_')[-1])\n",
    "\n",
    "        plt.subplot(160,10, count)\n",
    "    #     nx.draw_networkx(G, node_size=2, fontsize=0)\n",
    "        plt.plot(np.arange(0,1.1,0.1), np.arange(0,1.1,0.1), 'k-', lw=0.3)\n",
    "        plt.scatter(gibbs[:,0], hmc[:,0], s=5, color = color)\n",
    "        plt.title(\"{}\".format(i.split('_')[-1]), fontsize=5)\n",
    "        plt.tick_params(axis='x',which='both',bottom=False,top=False,labelbottom=False)\n",
    "        plt.tick_params(axis='y',which='both',left=False,right=False,labelleft=False)\n",
    "        plt.ylim(0,1)\n",
    "        plt.xlim(0,1)\n",
    "\n",
    "        count +=1\n",
    "\n",
    "\n",
    "# plt.figure(1, figsize=(20,5))\n",
    "# diff_avg_list = np.array(diff_avg_list)\n",
    "# diff_avg_list = np.array(sorted(diff_avg_list, key=lambda x: x[0], reverse=False))\n",
    "# plt.plot(diff_avg_list[:,0],'.-')\n",
    "# plt.ylabel(\"diff\")\n",
    "\n",
    "# plt.figure(2, figsize = (20,5))\n",
    "# plt.plot(diff_avg_list[:,0], diff_avg_list[:,1],\".-\")\n",
    "# plt.xlabel(\"diff\")\n",
    "# plt.ylabel(\"avg_degree\")\n",
    "\n",
    "print(\"Pass : {}\".format(pass_count))"
   ]
  },
  {
   "cell_type": "code",
   "execution_count": null,
   "metadata": {
    "hidden": true
   },
   "outputs": [],
   "source": [
    "a = {}\n",
    "a['fail_idx'] = fail_idx\n",
    "file_name = \"data_gen_aws/fail_idx_33.p\"\n",
    "with open(file_name, 'wb') as f:\n",
    "    pickle.dump(a, f)\n",
    "    \n",
    "file_name = \"data_temp_server/V=100/fail_idx_33.p\"\n",
    "with open(file_name, 'wb') as f:\n",
    "    pickle.dump(a, f)"
   ]
  },
  {
   "cell_type": "markdown",
   "metadata": {
    "heading_collapsed": true
   },
   "source": [
    "# Train check"
   ]
  },
  {
   "cell_type": "code",
   "execution_count": null,
   "metadata": {
    "hidden": true
   },
   "outputs": [],
   "source": [
    "path1 = \"GNN_hyunmok/GNN_exp/exp_4\"\n",
    "train = ['binarytree', 'grid', 'trigrid', 'bipartite', 'all']\n",
    "\n",
    "final_dir = []\n",
    "for tt in train:\n",
    "    train_dir = os.path.join(path1, tt)\n",
    "    for f in os.listdir(train_dir):\n",
    "        if \"DS\" not in f:\n",
    "            final_dir.append(os.path.join(train_dir, f))\n",
    "\n",
    "count = 1\n",
    "dim = []\n",
    "prop = []\n",
    "agg = []\n",
    "best_loss = []\n",
    "best_ep = []\n",
    "train_graph = []\n",
    "name = []\n",
    "test_loss = []\n",
    "\n",
    "for i in tqdm(final_dir):\n",
    "    train_stats = pickle.load(open(os.path.join(i, \"train_stats.p\"), \"rb\"))\n",
    "    cfg_path = os.path.join(i, \"config.yaml\")\n",
    "    cfg = yaml.load(open(cfg_path,'r'), Loader=yaml.FullLoader)\n",
    "    aggre = cfg['model']['aggregate_type']\n",
    "    \n",
    "    dim.append(cfg['model']['hidden_dim'])\n",
    "    prop.append(cfg['model']['num_prop'])\n",
    "    agg.append(cfg['model']['aggregate_type'])\n",
    "    train_graph.append(cfg['dataset']['data_path'].split('/')[-1].split('_')[0])\n",
    "    \n",
    "#     print(aggre)\n",
    "    val_loss = train_stats['val_loss']\n",
    "    best_val_loss = train_stats['best_val_loss'][0]\n",
    "    best_epoch = val_loss.index(best_val_loss)\n",
    "    best_loss.append(best_val_loss)\n",
    "    best_ep.append(best_epoch)\n",
    "    \n",
    "    for ii in os.listdir(i):\n",
    "        if \"TorchGNN\" in ii:\n",
    "            p = pd.read_csv(os.path.join(i, ii, \"pred_pts_test.csv\"), sep='\\t', header=None).values\n",
    "            q = pd.read_csv(os.path.join(i, ii, \"gt_pts_test.csv\"), sep='\\t', header=None).values\n",
    "            \n",
    "    P = torch.Tensor(p).type(dtype=torch.float64)\n",
    "    Q = torch.Tensor(q).type(dtype=torch.float64)\n",
    "    loss = nn.KLDivLoss(reduction = 'batchmean')(torch.log(Q), P)\n",
    "    test_loss.append(loss.cpu().numpy())\n"
   ]
  },
  {
   "cell_type": "code",
   "execution_count": null,
   "metadata": {
    "hidden": true,
    "scrolled": false
   },
   "outputs": [],
   "source": [
    "t = zip(dim, prop, agg, train_graph, best_loss, best_ep, final_dir, test_loss)\n",
    "data = {}\n",
    "c = sorted(t, key = lambda x : x[4])\n",
    "data['hidden_dim'],data['num_prop'],data['agg'],data['train'], data['best_val_loss'],data['best_epoch'], final_dir2, data['test_loss'] = zip(*c)\n",
    "# l = np.array(data['best_val_loss'])\n",
    "# for idx, i in enumerate(l):\n",
    "#     l[idx] = \"{:0.2e}\".format(i)\n",
    "# data['best_val_loss'] = l\n",
    "\n",
    "pd.set_option('display.float_format', '{:0.2e}'.format) # 항상 float 형식으로\n",
    "DataFrame = pd.DataFrame(data)\n",
    "DataFrame.to_csv(\"GNN_hyunmok/GNN_exp/exp_4/result_(val).csv\")\n",
    "DataFrame"
   ]
  },
  {
   "cell_type": "code",
   "execution_count": null,
   "metadata": {
    "hidden": true
   },
   "outputs": [],
   "source": [
    "t = zip(dim, prop, agg, train_graph, best_loss, best_ep, final_dir, test_loss)\n",
    "data = {}\n",
    "c = sorted(t, key = lambda x : x[7])\n",
    "data['hidden_dim'],data['num_prop'],data['agg'],data['train'], data['best_val_loss'],data['best_epoch'], final_dir2, data['test_loss'] = zip(*c)\n",
    "# l = np.array(data['best_val_loss'])\n",
    "# for idx, i in enumerate(l):\n",
    "#     l[idx] = \"{:0.2e}\".format(i)\n",
    "# data['best_val_loss'] = l\n",
    "\n",
    "pd.set_option('display.float_format', '{:0.2e}'.format) # 항상 float 형식으로\n",
    "DataFrame = pd.DataFrame(data)\n",
    "DataFrame.to_csv(\"GNN_hyunmok/GNN_exp/exp_4/result_(test).csv\")\n",
    "DataFrame"
   ]
  },
  {
   "cell_type": "code",
   "execution_count": null,
   "metadata": {
    "hidden": true
   },
   "outputs": [],
   "source": [
    "count = 0\n",
    "idx = 0\n",
    "plt.figure(figsize = (10,500))\n",
    "\n",
    "gs = gridspec.GridSpec(nrows=112, # row 몇 개 \n",
    "                       ncols=2, # col 몇 개 \n",
    "                       width_ratios=[20, 10]\n",
    "                      )\n",
    "\n",
    "for i in tqdm(final_dir2):\n",
    "    train_stats = pickle.load(open(os.path.join(i, \"train_stats.p\"), \"rb\"))\n",
    "    cfg_path = os.path.join(i, \"config.yaml\")\n",
    "    cfg = yaml.load(open(cfg_path,'r'), Loader=yaml.FullLoader)\n",
    "    aggre = cfg['model']['aggregate_type']\n",
    "    \n",
    "#     print(aggre)\n",
    "    val_loss = train_stats['val_loss']\n",
    "    best_val_loss = train_stats['best_val_loss'][0]\n",
    "    best_epoch = val_loss.index(best_val_loss)\n",
    "    \n",
    "    val_loss = train_stats['val_loss']\n",
    "    for ii in os.listdir(i):\n",
    "        if \"TorchGNN\" in ii:\n",
    "            p = pd.read_csv(os.path.join(i, ii, \"pred_pts_test.csv\"), sep='\\t', header=None).values\n",
    "            q = pd.read_csv(os.path.join(i, ii, \"gt_pts_test.csv\"), sep='\\t', header=None).values\n",
    "            \n",
    "    P = torch.Tensor(p).type(dtype=torch.float64)\n",
    "    Q = torch.Tensor(q).type(dtype=torch.float64)\n",
    "    loss = nn.KLDivLoss(reduction = 'batchmean')(torch.log(Q), P)\n",
    "\n",
    "    plt.subplot(gs[count])\n",
    "    plt.plot(val_loss)\n",
    "    plt.xlabel('epoch')\n",
    "    plt.ylabel('val_loss')\n",
    "    plt.scatter(best_epoch, best_val_loss, color='red')\n",
    "    plt.title(\"id : {}, \\n best_loss : {:0.2e},\\n epoch : {}\".format(idx, best_val_loss, best_epoch))\n",
    "    count += 1\n",
    "    idx += 1\n",
    "    \n",
    "#     plt.subplot(60,2,count)\n",
    "    plt.subplot(gs[count])\n",
    "    plt.scatter(P[:,0], Q[:,0], s=3)\n",
    "    plt.xlim(0,1)\n",
    "    plt.ylim(0,1)\n",
    "    plt.plot(np.arange(0,1.1,0.1), np.arange(0,1.1,0.1), 'k-', lw=0.3)\n",
    "    plt.title(\"test_loss : {:0.2e}\".format(loss))\n",
    "    count += 1\n",
    "plt.subplots_adjust(hspace = 0.5, wspace = 0.2)"
   ]
  }
 ],
 "metadata": {
  "kernelspec": {
   "display_name": "Python 3",
   "language": "python",
   "name": "python3"
  },
  "language_info": {
   "codemirror_mode": {
    "name": "ipython",
    "version": 3
   },
   "file_extension": ".py",
   "mimetype": "text/x-python",
   "name": "python",
   "nbconvert_exporter": "python",
   "pygments_lexer": "ipython3",
   "version": "3.7.6"
  }
 },
 "nbformat": 4,
 "nbformat_minor": 4
}
